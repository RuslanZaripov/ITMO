{
 "cells": [
  {
   "cell_type": "markdown",
   "source": [
    "# Быстрая гистограмма"
   ],
   "metadata": {
    "collapsed": false
   }
  },
  {
   "cell_type": "code",
   "execution_count": 79,
   "outputs": [],
   "source": [
    "def timer(number):\n",
    "    def decorator(func):\n",
    "        import time\n",
    "\n",
    "        def wrapper(*args, **kwargs):\n",
    "            result = 0\n",
    "            for i in range(0, number):\n",
    "                start = time.time()\n",
    "                func(*args, **kwargs)\n",
    "                end = time.time()\n",
    "                result += end - start\n",
    "            print(\"Method: \", func.__name__, \", Time:\", result / number)\n",
    "            return func(*args, **kwargs)\n",
    "\n",
    "        return wrapper\n",
    "\n",
    "    return decorator"
   ],
   "metadata": {
    "collapsed": false
   }
  },
  {
   "cell_type": "code",
   "execution_count": 80,
   "outputs": [],
   "source": [
    "from typing import List, Tuple, Union\n",
    "\n",
    "import matplotlib.pyplot as plt\n",
    "import numpy as np\n",
    "\n",
    "@timer(100)\n",
    "def fast_hist(arr: List[Union[int, float]],\n",
    "              bins: int) -> Tuple[List[int], List[float]]:\n",
    "    \"\"\"\n",
    "    Builds bins' labels and bins' value counts for given array\n",
    "    :param arr: array with numeric values\n",
    "    :param bins:  number of bins in result distribution\n",
    "    :return: Two lists:\n",
    "             first contains value counts of each bin,\n",
    "             second contains list of bins' labels\n",
    "    \"\"\"\n",
    "    min_val = min(arr)\n",
    "    max_val = max(arr)\n",
    "    step = (max_val - min_val) / bins\n",
    "    bins_labels = [min_val + i * step for i in range(bins)]\n",
    "    bins_labels.append(max_val)\n",
    "    bins_values = [0] * bins\n",
    "    for val in arr:\n",
    "        for i in range(bins):\n",
    "            if bins_labels[i] <= val < bins_labels[i + 1]:\n",
    "                bins_values[i] += 1\n",
    "            if i + 1 == len(bins_labels) - 1 and bins_labels[i + 1] == val:\n",
    "                bins_values[i] += 1\n",
    "    bins_labels = np.array(bins_labels).astype(float)\n",
    "    bins_values = np.array(bins_values).astype(float)\n",
    "    return bins_values, bins_labels\n",
    "\n",
    "@timer(100)\n",
    "def hist(arr, bins):\n",
    "    return plt.hist(arr, bins=bins)"
   ],
   "metadata": {
    "collapsed": false
   }
  },
  {
   "cell_type": "code",
   "execution_count": 81,
   "outputs": [
    {
     "name": "stdout",
     "output_type": "stream",
     "text": [
      "Method:  fast_hist , Time: 0.011084084510803222\n",
      "Значения колонок: [2. 1. 1. 3. 1. 3. 2. 1. 3. 1. 2. 1. 2. 2. 2. 2. 0. 3. 1. 1. 2. 0. 5. 2.\n",
      " 3. 0. 0. 1. 2. 2. 3. 1. 0. 0. 3. 1. 6. 4. 0. 2. 1. 1. 0. 2. 1. 2. 3. 1.\n",
      " 0. 3. 1. 0. 0. 3. 0. 1. 1. 1. 2. 2. 3. 1.]\n",
      "Названия колонок: [ 0.          1.58064516  3.16129032  4.74193548  6.32258065  7.90322581\n",
      "  9.48387097 11.06451613 12.64516129 14.22580645 15.80645161 17.38709677\n",
      " 18.96774194 20.5483871  22.12903226 23.70967742 25.29032258 26.87096774\n",
      " 28.4516129  30.03225806 31.61290323 33.19354839 34.77419355 36.35483871\n",
      " 37.93548387 39.51612903 41.09677419 42.67741935 44.25806452 45.83870968\n",
      " 47.41935484 49.         50.58064516 52.16129032 53.74193548 55.32258065\n",
      " 56.90322581 58.48387097 60.06451613 61.64516129 63.22580645 64.80645161\n",
      " 66.38709677 67.96774194 69.5483871  71.12903226 72.70967742 74.29032258\n",
      " 75.87096774 77.4516129  79.03225806 80.61290323 82.19354839 83.77419355\n",
      " 85.35483871 86.93548387 88.51612903 90.09677419 91.67741935 93.25806452\n",
      " 94.83870968 96.41935484 98.        ]\n"
     ]
    },
    {
     "data": {
      "text/plain": "<Figure size 640x480 with 1 Axes>",
      "image/png": "[encoded data removed]"
     },
     "metadata": {},
     "output_type": "display_data"
    }
   ],
   "source": [
    "import numpy.random as rand\n",
    "\n",
    "array = rand.randint(low=0, high=100, size=100)\n",
    "\n",
    "value_counts, bins_names = fast_hist(array, bins=len(set(array)))\n",
    "\n",
    "plt.bar(bins_names[:-1], value_counts, width=bins_names[1] - bins_names[0])\n",
    "\n",
    "print('Значения колонок:', value_counts)\n",
    "print('Названия колонок:', bins_names)"
   ],
   "metadata": {
    "collapsed": false
   }
  },
  {
   "cell_type": "code",
   "execution_count": 82,
   "outputs": [
    {
     "name": "stdout",
     "output_type": "stream",
     "text": [
      "Method:  hist , Time: 0.042570078372955324\n",
      "Значения колонок: [2. 1. 1. 3. 1. 3. 2. 1. 3. 1. 2. 1. 2. 2. 2. 2. 0. 3. 1. 1. 2. 0. 5. 2.\n",
      " 3. 0. 0. 1. 2. 2. 3. 1. 0. 0. 3. 1. 6. 4. 0. 2. 1. 1. 0. 2. 1. 2. 3. 1.\n",
      " 0. 3. 1. 0. 0. 3. 0. 1. 1. 1. 2. 2. 3. 1.]\n",
      "Названия колонок: [ 0.          1.58064516  3.16129032  4.74193548  6.32258065  7.90322581\n",
      "  9.48387097 11.06451613 12.64516129 14.22580645 15.80645161 17.38709677\n",
      " 18.96774194 20.5483871  22.12903226 23.70967742 25.29032258 26.87096774\n",
      " 28.4516129  30.03225806 31.61290323 33.19354839 34.77419355 36.35483871\n",
      " 37.93548387 39.51612903 41.09677419 42.67741935 44.25806452 45.83870968\n",
      " 47.41935484 49.         50.58064516 52.16129032 53.74193548 55.32258065\n",
      " 56.90322581 58.48387097 60.06451613 61.64516129 63.22580645 64.80645161\n",
      " 66.38709677 67.96774194 69.5483871  71.12903226 72.70967742 74.29032258\n",
      " 75.87096774 77.4516129  79.03225806 80.61290323 82.19354839 83.77419355\n",
      " 85.35483871 86.93548387 88.51612903 90.09677419 91.67741935 93.25806452\n",
      " 94.83870968 96.41935484 98.        ]\n"
     ]
    },
    {
     "data": {
      "text/plain": "<Figure size 640x480 with 1 Axes>",
      "image/png": "[encoded data removed]"
     },
     "metadata": {},
     "output_type": "display_data"
    }
   ],
   "source": [
    "value_counts, bins_names, visual_figure = hist(array, bins=len(set(array)))\n",
    "print('Значения колонок:', value_counts)\n",
    "print('Названия колонок:', bins_names)"
   ],
   "metadata": {
    "collapsed": false
   }
  }
 ],
 "metadata": {
  "kernelspec": {
   "display_name": "Python 3",
   "language": "python",
   "name": "python3"
  },
  "language_info": {
   "codemirror_mode": {
    "name": "ipython",
    "version": 2
   },
   "file_extension": ".py",
   "mimetype": "text/x-python",
   "name": "python",
   "nbconvert_exporter": "python",
   "pygments_lexer": "ipython2",
   "version": "2.7.6"
  }
 },
 "nbformat": 4,
 "nbformat_minor": 0
}
