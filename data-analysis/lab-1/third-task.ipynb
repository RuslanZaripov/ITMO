{
 "cells": [
  {
   "cell_type": "markdown",
   "source": [
    "# Быстрая гистограмма"
   ],
   "metadata": {
    "collapsed": false
   }
  },
  {
   "cell_type": "code",
   "execution_count": 444,
   "outputs": [],
   "source": [
    "import time\n",
    "\n",
    "def timer(func):\n",
    "    def wrapper(*args, **kwargs):\n",
    "        start = time.time()\n",
    "        rv = func()\n",
    "        total = time.time() - start\n",
    "        print(\"Time: \", total)\n",
    "        return rv\n",
    "    return wrapper()"
   ],
   "metadata": {
    "collapsed": false
   }
  },
  {
   "cell_type": "code",
   "execution_count": 445,
   "outputs": [
    {
     "ename": "TypeError",
     "evalue": "fast_hist() missing 2 required positional arguments: 'arr' and 'bins'",
     "output_type": "error",
     "traceback": [
      "\u001B[1;31m---------------------------------------------------------------------------\u001B[0m",
      "\u001B[1;31mTypeError\u001B[0m                                 Traceback (most recent call last)",
      "Cell \u001B[1;32mIn [445], line 7\u001B[0m\n\u001B[0;32m      3\u001B[0m \u001B[38;5;28;01mimport\u001B[39;00m \u001B[38;5;21;01mmatplotlib\u001B[39;00m\u001B[38;5;21;01m.\u001B[39;00m\u001B[38;5;21;01mpyplot\u001B[39;00m \u001B[38;5;28;01mas\u001B[39;00m \u001B[38;5;21;01mplt\u001B[39;00m\n\u001B[0;32m      4\u001B[0m \u001B[38;5;28;01mimport\u001B[39;00m \u001B[38;5;21;01mnumpy\u001B[39;00m \u001B[38;5;28;01mas\u001B[39;00m \u001B[38;5;21;01mnp\u001B[39;00m\n\u001B[0;32m      6\u001B[0m \u001B[38;5;129m@timer\u001B[39m\n\u001B[1;32m----> 7\u001B[0m \u001B[38;5;28;01mdef\u001B[39;00m \u001B[38;5;21mfast_hist\u001B[39m(arr: List[Union[\u001B[38;5;28mint\u001B[39m, \u001B[38;5;28mfloat\u001B[39m]],\n\u001B[0;32m      8\u001B[0m               bins: \u001B[38;5;28mint\u001B[39m) \u001B[38;5;241m-\u001B[39m\u001B[38;5;241m>\u001B[39m Tuple[List[\u001B[38;5;28mint\u001B[39m], List[\u001B[38;5;28mfloat\u001B[39m]]:\n\u001B[0;32m      9\u001B[0m     \u001B[38;5;124;03m\"\"\"\u001B[39;00m\n\u001B[0;32m     10\u001B[0m \u001B[38;5;124;03m    Builds bins' labels and bins' value counts for given array\u001B[39;00m\n\u001B[0;32m     11\u001B[0m \u001B[38;5;124;03m    :param arr: array with numeric values\u001B[39;00m\n\u001B[1;32m   (...)\u001B[0m\n\u001B[0;32m     15\u001B[0m \u001B[38;5;124;03m             second contains list of bins' labels\u001B[39;00m\n\u001B[0;32m     16\u001B[0m \u001B[38;5;124;03m    \"\"\"\u001B[39;00m\n\u001B[0;32m     17\u001B[0m     \u001B[38;5;28mprint\u001B[39m(arr)\n",
      "Cell \u001B[1;32mIn [444], line 10\u001B[0m, in \u001B[0;36mtimer\u001B[1;34m(func)\u001B[0m\n\u001B[0;32m      8\u001B[0m     \u001B[38;5;28mprint\u001B[39m(\u001B[38;5;124m\"\u001B[39m\u001B[38;5;124mTime: \u001B[39m\u001B[38;5;124m\"\u001B[39m, total)\n\u001B[0;32m      9\u001B[0m     \u001B[38;5;28;01mreturn\u001B[39;00m rv\n\u001B[1;32m---> 10\u001B[0m \u001B[38;5;28;01mreturn\u001B[39;00m \u001B[43mwrapper\u001B[49m\u001B[43m(\u001B[49m\u001B[43m)\u001B[49m\n",
      "Cell \u001B[1;32mIn [444], line 6\u001B[0m, in \u001B[0;36mtimer.<locals>.wrapper\u001B[1;34m(*args, **kwargs)\u001B[0m\n\u001B[0;32m      4\u001B[0m \u001B[38;5;28;01mdef\u001B[39;00m \u001B[38;5;21mwrapper\u001B[39m(\u001B[38;5;241m*\u001B[39margs, \u001B[38;5;241m*\u001B[39m\u001B[38;5;241m*\u001B[39mkwargs):\n\u001B[0;32m      5\u001B[0m     start \u001B[38;5;241m=\u001B[39m time\u001B[38;5;241m.\u001B[39mtime()\n\u001B[1;32m----> 6\u001B[0m     rv \u001B[38;5;241m=\u001B[39m \u001B[43mfunc\u001B[49m\u001B[43m(\u001B[49m\u001B[43m)\u001B[49m\n\u001B[0;32m      7\u001B[0m     total \u001B[38;5;241m=\u001B[39m time\u001B[38;5;241m.\u001B[39mtime() \u001B[38;5;241m-\u001B[39m start\n\u001B[0;32m      8\u001B[0m     \u001B[38;5;28mprint\u001B[39m(\u001B[38;5;124m\"\u001B[39m\u001B[38;5;124mTime: \u001B[39m\u001B[38;5;124m\"\u001B[39m, total)\n",
      "\u001B[1;31mTypeError\u001B[0m: fast_hist() missing 2 required positional arguments: 'arr' and 'bins'"
     ]
    }
   ],
   "source": [
    "from typing import List, Tuple, Union\n",
    "\n",
    "import matplotlib.pyplot as plt\n",
    "import numpy as np\n",
    "\n",
    "@timer\n",
    "def fast_hist(arr: List[Union[int, float]],\n",
    "              bins: int) -> Tuple[List[int], List[float]]:\n",
    "    \"\"\"\n",
    "    Builds bins' labels and bins' value counts for given array\n",
    "    :param arr: array with numeric values\n",
    "    :param bins:  number of bins in result distribution\n",
    "    :return: Two lists:\n",
    "             first contains value counts of each bin,\n",
    "             second contains list of bins' labels\n",
    "    \"\"\"\n",
    "    print(arr)\n",
    "    min_val = min(arr)\n",
    "    max_val = max(arr)\n",
    "    step = (max_val - min_val) / bins\n",
    "    bins_labels = [min_val + i * step for i in range(bins)]\n",
    "    bins_labels.append(max_val)\n",
    "    bins_values = [0] * bins\n",
    "    for val in arr:\n",
    "        for i in range(bins):\n",
    "            if bins_labels[i] <= val < bins_labels[i + 1]:\n",
    "                bins_values[i] += 1\n",
    "            if i + 1 == len(bins_labels) - 1 and bins_labels[i + 1] == val:\n",
    "                bins_values[i] += 1\n",
    "    bins_labels = np.array(bins_labels).astype(float)\n",
    "    bins_values = np.array(bins_values).astype(float)\n",
    "    # plt.bar(bins_values, bins_labels)\n",
    "    return bins_values, bins_labels"
   ],
   "metadata": {
    "collapsed": false
   }
  },
  {
   "cell_type": "code",
   "execution_count": null,
   "outputs": [],
   "source": [
    "import numpy.random as rand\n",
    "\n",
    "array = rand.randint(low=0, high=10, size=20)\n",
    "\n",
    "value_counts, bins_names = fast_hist(array, bins=len(set(array)))\n",
    "# Параметр rwidth и визуализацию в своей функции реализовывать не требуется\n",
    "print(value_counts.shape, bins_names.shape)\n",
    "print('Значения колонок:', value_counts)\n",
    "print('Названия колонок:', bins_names)\n",
    "\n",
    "value_counts, bins_names, visual_figure = plt.hist(array,\n",
    "                                                   bins=len(set(array)),\n",
    "                                                   rwidth=0.9)\n",
    "# Параметр rwidth и визуализацию в своей функции реализовывать не требуется\n",
    "print(value_counts.shape, bins_names.shape)\n",
    "print('Значения колонок:', value_counts)\n",
    "print('Названия колонок:', bins_names)"
   ],
   "metadata": {
    "collapsed": false
   }
  }
 ],
 "metadata": {
  "kernelspec": {
   "display_name": "Python 3",
   "language": "python",
   "name": "python3"
  },
  "language_info": {
   "codemirror_mode": {
    "name": "ipython",
    "version": 2
   },
   "file_extension": ".py",
   "mimetype": "text/x-python",
   "name": "python",
   "nbconvert_exporter": "python",
   "pygments_lexer": "ipython2",
   "version": "2.7.6"
  }
 },
 "nbformat": 4,
 "nbformat_minor": 0
}
