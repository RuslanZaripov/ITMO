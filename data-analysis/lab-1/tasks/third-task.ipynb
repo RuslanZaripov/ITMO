{
 "cells": [
  {
   "cell_type": "markdown",
   "source": [
    "# Быстрая гистограмма"
   ],
   "metadata": {
    "collapsed": false
   }
  },
  {
   "cell_type": "code",
   "execution_count": 6,
   "outputs": [],
   "source": [
    "import time\n",
    "\n",
    "def timer(func):\n",
    "    def wrapper(*args, **kwargs):\n",
    "        start = time.time()\n",
    "        rv = func()\n",
    "        total = time.time() - start\n",
    "        print(\"Time: \", total)\n",
    "        return rv\n",
    "    return wrapper()"
   ],
   "metadata": {
    "collapsed": false
   }
  },
  {
   "cell_type": "code",
   "execution_count": 7,
   "outputs": [],
   "source": [
    "from typing import List, Tuple, Union\n",
    "\n",
    "import matplotlib.pyplot as plt\n",
    "import numpy as np\n",
    "\n",
    "def fast_hist(arr: List[Union[int, float]],\n",
    "              bins: int) -> Tuple[List[int], List[float]]:\n",
    "    \"\"\"\n",
    "    Builds bins' labels and bins' value counts for given array\n",
    "    :param arr: array with numeric values\n",
    "    :param bins:  number of bins in result distribution\n",
    "    :return: Two lists:\n",
    "             first contains value counts of each bin,\n",
    "             second contains list of bins' labels\n",
    "    \"\"\"\n",
    "    min_val = min(arr)\n",
    "    max_val = max(arr)\n",
    "    step = (max_val - min_val) / bins\n",
    "    bins_labels = [min_val + i * step for i in range(bins)]\n",
    "    bins_labels.append(max_val)\n",
    "    bins_values = [0] * bins\n",
    "    for val in arr:\n",
    "        for i in range(bins):\n",
    "            if bins_labels[i] <= val < bins_labels[i + 1]:\n",
    "                bins_values[i] += 1\n",
    "            if i + 1 == len(bins_labels) - 1 and bins_labels[i + 1] == val:\n",
    "                bins_values[i] += 1\n",
    "    bins_labels = np.array(bins_labels).astype(float)\n",
    "    bins_values = np.array(bins_values).astype(float)\n",
    "    return bins_values, bins_labels"
   ],
   "metadata": {
    "collapsed": false
   }
  },
  {
   "cell_type": "code",
   "execution_count": 8,
   "outputs": [
    {
     "name": "stdout",
     "output_type": "stream",
     "text": [
      "Значения колонок: [2. 1. 2. 0. 2. 3. 1. 9.]\n",
      "Названия колонок: [0.    1.125 2.25  3.375 4.5   5.625 6.75  7.875 9.   ]\n",
      "(8,) (9,)\n",
      "Значения колонок: [2. 1. 2. 0. 2. 3. 1. 9.]\n",
      "Названия колонок: [0.    1.125 2.25  3.375 4.5   5.625 6.75  7.875 9.   ]\n"
     ]
    },
    {
     "data": {
      "text/plain": "<Figure size 640x480 with 1 Axes>",
      "image/png": "[encoded data removed]"
     },
     "metadata": {},
     "output_type": "display_data"
    }
   ],
   "source": [
    "import numpy.random as rand\n",
    "\n",
    "array = rand.randint(low=0, high=10, size=20)\n",
    "\n",
    "value_counts, bins_names = fast_hist(array, bins=len(set(array)))\n",
    "print('Значения колонок:', value_counts)\n",
    "print('Названия колонок:', bins_names)\n",
    "\n",
    "value_counts, bins_names, visual_figure = plt.hist(array,\n",
    "                                                   bins=len(set(array)),\n",
    "                                                   rwidth=0.9)\n",
    "print(value_counts.shape, bins_names.shape)\n",
    "print('Значения колонок:', value_counts)\n",
    "print('Названия колонок:', bins_names)"
   ],
   "metadata": {
    "collapsed": false
   }
  }
 ],
 "metadata": {
  "kernelspec": {
   "display_name": "Python 3",
   "language": "python",
   "name": "python3"
  },
  "language_info": {
   "codemirror_mode": {
    "name": "ipython",
    "version": 2
   },
   "file_extension": ".py",
   "mimetype": "text/x-python",
   "name": "python",
   "nbconvert_exporter": "python",
   "pygments_lexer": "ipython2",
   "version": "2.7.6"
  }
 },
 "nbformat": 4,
 "nbformat_minor": 0
}
