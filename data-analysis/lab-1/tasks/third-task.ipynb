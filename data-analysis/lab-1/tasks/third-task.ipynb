{
 "cells": [
  {
   "cell_type": "markdown",
   "source": [
    "# Быстрая гистограмма\n",
    "- Реализовать свою функцию построения дискретного распределения.\n",
    "- С помощью результатов своего алгоритма и plt.bar построим гистограмму по массиву из 50+ случайных чисел.\n",
    "- Сравним скорость построения распределения по массиву чисел с помощью своего алгоритма и с помощью plt.hist. Напишем decorator timer"
   ],
   "metadata": {
    "collapsed": false
   }
  },
  {
   "cell_type": "code",
   "execution_count": 89,
   "outputs": [],
   "source": [
    "def timer(number):\n",
    "    def decorator(func):\n",
    "        import time\n",
    "\n",
    "        def wrapper(*args, **kwargs):\n",
    "            result = 0\n",
    "            for i in range(0, number):\n",
    "                start = time.time()\n",
    "                func(*args, **kwargs)\n",
    "                end = time.time()\n",
    "                result += end - start\n",
    "            print(\"Method: \", func.__name__, \", Time:\", result / number)\n",
    "            return func(*args, **kwargs)\n",
    "\n",
    "        return wrapper\n",
    "\n",
    "    return decorator"
   ],
   "metadata": {
    "collapsed": false
   }
  },
  {
   "cell_type": "code",
   "execution_count": 90,
   "outputs": [],
   "source": [
    "from typing import List, Tuple, Union\n",
    "\n",
    "import matplotlib.pyplot as plt\n",
    "\n",
    "@timer(100)\n",
    "def fast_hist(arr: List[Union[int, float]],\n",
    "              bins: int) -> Tuple[List[int], List[float]]:\n",
    "    \"\"\"\n",
    "    Builds bins' labels and bins' value counts for given array\n",
    "    :param arr: array with numeric values\n",
    "    :param bins:  number of bins in result distribution\n",
    "    :return: Two lists:\n",
    "             first contains value counts of each bin,\n",
    "             second contains list of bins' labels\n",
    "    \"\"\"\n",
    "    min_val = min(arr)\n",
    "    max_val = max(arr)\n",
    "    step = (max_val - min_val) / bins\n",
    "    bins_labels = [min_val + i * step for i in range(bins)]\n",
    "    bins_labels.append(max_val)\n",
    "    bins_values = [0] * bins\n",
    "    for val in arr:\n",
    "        for i in range(bins):\n",
    "            if bins_labels[i] <= val < bins_labels[i + 1]:\n",
    "                bins_values[i] += 1\n",
    "            if i + 1 == len(bins_labels) - 1 and bins_labels[i + 1] == val:\n",
    "                bins_values[i] += 1\n",
    "    return bins_values, bins_labels\n",
    "\n",
    "@timer(100)\n",
    "def hist(arr, bins):\n",
    "    return plt.hist(arr, bins=bins)"
   ],
   "metadata": {
    "collapsed": false
   }
  },
  {
   "cell_type": "code",
   "execution_count": 91,
   "outputs": [
    {
     "name": "stdout",
     "output_type": "stream",
     "text": [
      "[7 4 2 7 6 5 6 7 9 6 3 6 6 0 1 6 8 8 3 2 9 0 1 7 8 0 6 6 5 0 2 6 3 5 1 3 6\n",
      " 3 6 6 1 1 2 4 4 0 4 3 9 6]\n",
      "Method:  fast_hist , Time: 0.0009197640419006348\n",
      "Значения колонок: [5, 5, 4, 6, 4, 3, 13, 4, 3, 3]\n",
      "Названия колонок: [0.0, 0.9, 1.8, 2.7, 3.6, 4.5, 5.4, 6.3, 7.2, 8.1, 9]\n"
     ]
    },
    {
     "data": {
      "text/plain": "<Figure size 640x480 with 1 Axes>",
      "image/png": "[encoded data removed]"
     },
     "metadata": {},
     "output_type": "display_data"
    }
   ],
   "source": [
    "import numpy.random as rand\n",
    "\n",
    "array = rand.randint(low=0, high=10, size=50)\n",
    "print(array)\n",
    "\n",
    "value_counts, bins_names = fast_hist(array, bins=len(set(array)))\n",
    "\n",
    "plt.bar(bins_names[:-1], value_counts, width=bins_names[1] - bins_names[0])\n",
    "\n",
    "print('Значения колонок:', value_counts)\n",
    "print('Названия колонок:', bins_names)"
   ],
   "metadata": {
    "collapsed": false
   }
  },
  {
   "cell_type": "code",
   "execution_count": 92,
   "outputs": [
    {
     "name": "stdout",
     "output_type": "stream",
     "text": [
      "Method:  hist , Time: 0.012773196697235107\n",
      "Значения колонок: [ 5.  5.  4.  6.  4.  3. 13.  4.  3.  3.]\n",
      "Названия колонок: [0.  0.9 1.8 2.7 3.6 4.5 5.4 6.3 7.2 8.1 9. ]\n"
     ]
    },
    {
     "data": {
      "text/plain": "<Figure size 640x480 with 1 Axes>",
      "image/png": "[encoded data removed]"
     },
     "metadata": {},
     "output_type": "display_data"
    }
   ],
   "source": [
    "value_counts, bins_names, visual_figure = hist(array, bins=len(set(array)))\n",
    "print('Значения колонок:', value_counts)\n",
    "print('Названия колонок:', bins_names)"
   ],
   "metadata": {
    "collapsed": false
   }
  }
 ],
 "metadata": {
  "kernelspec": {
   "display_name": "Python 3",
   "language": "python",
   "name": "python3"
  },
  "language_info": {
   "codemirror_mode": {
    "name": "ipython",
    "version": 2
   },
   "file_extension": ".py",
   "mimetype": "text/x-python",
   "name": "python",
   "nbconvert_exporter": "python",
   "pygments_lexer": "ipython2",
   "version": "2.7.6"
  }
 },
 "nbformat": 4,
 "nbformat_minor": 0
}
