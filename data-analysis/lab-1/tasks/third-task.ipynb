{
 "cells": [
  {
   "cell_type": "markdown",
   "source": [
    "# Быстрая гистограмма\n",
    "- Реализовать свою функцию построения дискретного распределения.\n",
    "- С помощью результатов своего алгоритма и plt.bar построим гистограмму по массиву из 50+ случайных чисел.\n",
    "- Сравним скорость построения распределения по массиву чисел с помощью своего алгоритма и с помощью plt.hist. Напишем decorator timer"
   ],
   "metadata": {
    "collapsed": false
   }
  },
  {
   "cell_type": "code",
   "execution_count": 1,
   "outputs": [],
   "source": [
    "def timer(number):\n",
    "    def decorator(func):\n",
    "        import time\n",
    "\n",
    "        def wrapper(*args, **kwargs):\n",
    "            result = 0\n",
    "            for i in range(0, number):\n",
    "                start = time.time()\n",
    "                func(*args, **kwargs)\n",
    "                end = time.time()\n",
    "                result += end - start\n",
    "            print(\"Method: \", func.__name__, \", Time:\", result / number)\n",
    "            return func(*args, **kwargs)\n",
    "\n",
    "        return wrapper\n",
    "\n",
    "    return decorator"
   ],
   "metadata": {
    "collapsed": false
   }
  },
  {
   "cell_type": "code",
   "execution_count": 2,
   "outputs": [],
   "source": [
    "from typing import List, Tuple, Union\n",
    "\n",
    "import matplotlib.pyplot as plt\n",
    "import numpy as np\n",
    "\n",
    "@timer(100)\n",
    "def fast_hist(arr: List[Union[int, float]],\n",
    "              bins: int) -> Tuple[List[int], List[float]]:\n",
    "    \"\"\"\n",
    "    Builds bins' labels and bins' value counts for given array\n",
    "    :param arr: array with numeric values\n",
    "    :param bins:  number of bins in result distribution\n",
    "    :return: Two lists:\n",
    "             first contains value counts of each bin,\n",
    "             second contains list of bins' labels\n",
    "    \"\"\"\n",
    "    min_val = min(arr)\n",
    "    max_val = max(arr)\n",
    "    step = (max_val - min_val) / bins\n",
    "    bins_labels = [min_val + i * step for i in range(bins)]\n",
    "    bins_labels.append(max_val)\n",
    "    bins_values = [0] * bins\n",
    "    for val in arr:\n",
    "        for i in range(bins):\n",
    "            if bins_labels[i] <= val < bins_labels[i + 1]:\n",
    "                bins_values[i] += 1\n",
    "            if i + 1 == len(bins_labels) - 1 and bins_labels[i + 1] == val:\n",
    "                bins_values[i] += 1\n",
    "    bins_labels = np.array(bins_labels).astype(float)\n",
    "    bins_values = np.array(bins_values).astype(float)\n",
    "    return bins_values, bins_labels\n",
    "\n",
    "@timer(100)\n",
    "def hist(arr, bins):\n",
    "    return plt.hist(arr, bins=bins)"
   ],
   "metadata": {
    "collapsed": false
   }
  },
  {
   "cell_type": "code",
   "execution_count": 3,
   "outputs": [
    {
     "name": "stdout",
     "output_type": "stream",
     "text": [
      "Method:  fast_hist , Time: 0.008931546211242676\n",
      "Значения колонок: [3. 1. 1. 1. 1. 0. 1. 0. 0. 1. 3. 1. 3. 1. 5. 0. 2. 0. 1. 2. 2. 2. 0. 1.\n",
      " 2. 1. 3. 3. 0. 1. 0. 2. 0. 1. 0. 1. 1. 2. 2. 2. 1. 3. 2. 1. 2. 0. 1. 0.\n",
      " 1. 2. 3. 0. 3. 1. 5. 1. 3. 3. 1. 1. 1. 0. 4. 2. 3. 1. 2.]\n",
      "Названия колонок: [ 0.          1.47761194  2.95522388  4.43283582  5.91044776  7.3880597\n",
      "  8.86567164 10.34328358 11.82089552 13.29850746 14.7761194  16.25373134\n",
      " 17.73134328 19.20895522 20.68656716 22.1641791  23.64179104 25.11940299\n",
      " 26.59701493 28.07462687 29.55223881 31.02985075 32.50746269 33.98507463\n",
      " 35.46268657 36.94029851 38.41791045 39.89552239 41.37313433 42.85074627\n",
      " 44.32835821 45.80597015 47.28358209 48.76119403 50.23880597 51.71641791\n",
      " 53.19402985 54.67164179 56.14925373 57.62686567 59.10447761 60.58208955\n",
      " 62.05970149 63.53731343 65.01492537 66.49253731 67.97014925 69.44776119\n",
      " 70.92537313 72.40298507 73.88059701 75.35820896 76.8358209  78.31343284\n",
      " 79.79104478 81.26865672 82.74626866 84.2238806  85.70149254 87.17910448\n",
      " 88.65671642 90.13432836 91.6119403  93.08955224 94.56716418 96.04477612\n",
      " 97.52238806 99.        ]\n"
     ]
    },
    {
     "data": {
      "text/plain": "<Figure size 640x480 with 1 Axes>",
      "image/png": "[encoded data removed]"
     },
     "metadata": {},
     "output_type": "display_data"
    }
   ],
   "source": [
    "import numpy.random as rand\n",
    "\n",
    "array = rand.randint(low=0, high=100, size=100)\n",
    "\n",
    "value_counts, bins_names = fast_hist(array, bins=len(set(array)))\n",
    "\n",
    "plt.bar(bins_names[:-1], value_counts, width=bins_names[1] - bins_names[0])\n",
    "\n",
    "print('Значения колонок:', value_counts)\n",
    "print('Названия колонок:', bins_names)"
   ],
   "metadata": {
    "collapsed": false
   }
  },
  {
   "cell_type": "code",
   "execution_count": 4,
   "outputs": [
    {
     "name": "stdout",
     "output_type": "stream",
     "text": [
      "Method:  hist , Time: 0.035251777172088626\n",
      "Значения колонок: [3. 1. 1. 1. 1. 0. 1. 0. 0. 1. 3. 1. 3. 1. 5. 0. 2. 0. 1. 2. 2. 2. 0. 1.\n",
      " 2. 1. 3. 3. 0. 1. 0. 2. 0. 1. 0. 1. 1. 2. 2. 2. 1. 3. 2. 1. 2. 0. 1. 0.\n",
      " 1. 2. 3. 0. 3. 1. 5. 1. 3. 3. 1. 1. 1. 0. 4. 2. 3. 1. 2.]\n",
      "Названия колонок: [ 0.          1.47761194  2.95522388  4.43283582  5.91044776  7.3880597\n",
      "  8.86567164 10.34328358 11.82089552 13.29850746 14.7761194  16.25373134\n",
      " 17.73134328 19.20895522 20.68656716 22.1641791  23.64179104 25.11940299\n",
      " 26.59701493 28.07462687 29.55223881 31.02985075 32.50746269 33.98507463\n",
      " 35.46268657 36.94029851 38.41791045 39.89552239 41.37313433 42.85074627\n",
      " 44.32835821 45.80597015 47.28358209 48.76119403 50.23880597 51.71641791\n",
      " 53.19402985 54.67164179 56.14925373 57.62686567 59.10447761 60.58208955\n",
      " 62.05970149 63.53731343 65.01492537 66.49253731 67.97014925 69.44776119\n",
      " 70.92537313 72.40298507 73.88059701 75.35820896 76.8358209  78.31343284\n",
      " 79.79104478 81.26865672 82.74626866 84.2238806  85.70149254 87.17910448\n",
      " 88.65671642 90.13432836 91.6119403  93.08955224 94.56716418 96.04477612\n",
      " 97.52238806 99.        ]\n"
     ]
    },
    {
     "data": {
      "text/plain": "<Figure size 640x480 with 1 Axes>",
      "image/png": "[encoded data removed]"
     },
     "metadata": {},
     "output_type": "display_data"
    }
   ],
   "source": [
    "value_counts, bins_names, visual_figure = hist(array, bins=len(set(array)))\n",
    "print('Значения колонок:', value_counts)\n",
    "print('Названия колонок:', bins_names)"
   ],
   "metadata": {
    "collapsed": false
   }
  }
 ],
 "metadata": {
  "kernelspec": {
   "display_name": "Python 3",
   "language": "python",
   "name": "python3"
  },
  "language_info": {
   "codemirror_mode": {
    "name": "ipython",
    "version": 2
   },
   "file_extension": ".py",
   "mimetype": "text/x-python",
   "name": "python",
   "nbconvert_exporter": "python",
   "pygments_lexer": "ipython2",
   "version": "2.7.6"
  }
 },
 "nbformat": 4,
 "nbformat_minor": 0
}
